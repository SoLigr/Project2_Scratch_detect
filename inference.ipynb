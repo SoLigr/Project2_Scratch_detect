{
  "nbformat": 4,
  "nbformat_minor": 0,
  "metadata": {
    "colab": {
      "name": "inference.ipynb",
      "provenance": []
    },
    "kernelspec": {
      "name": "python3",
      "display_name": "Python 3"
    }
  },
  "cells": [
    {
      "cell_type": "code",
      "metadata": {
        "id": "PAM4Qs6gOe02",
        "colab_type": "code",
        "colab": {}
      },
      "source": [
        "# MOUNT GOOGLE DRIVE TO READ YOUR MODEL FROM GOOGLE DRIVE\n",
        "from google.colab import drive\n",
        "drive.mount('/content/gdrive')"
      ],
      "execution_count": 0,
      "outputs": []
    },
    {
      "cell_type": "code",
      "metadata": {
        "id": "z4I7Di0qOuNq",
        "colab_type": "code",
        "colab": {}
      },
      "source": [
        "from tensorflow.keras.models import load_model\n",
        "# LOAD MODEL\n",
        "model = load_model('./gdrive/My Drive/YOUR_SAVED_MODEL.h5')  # REPLACE THE PATH WITH YOUR MODEL PATH"
      ],
      "execution_count": 0,
      "outputs": []
    },
    {
      "cell_type": "code",
      "metadata": {
        "id": "8xV16OtDO-71",
        "colab_type": "code",
        "colab": {}
      },
      "source": [
        "# INSTALL OPENCV TO READ THE TEST IMAGE\n",
        "!pip3 install opencv-python"
      ],
      "execution_count": 0,
      "outputs": []
    },
    {
      "cell_type": "code",
      "metadata": {
        "id": "_b8MvQUoPLmR",
        "colab_type": "code",
        "colab": {}
      },
      "source": [
        "# IMPORT OPENCV\n",
        "import cv2\n",
        "# READ YOUR TEST IMAGE AS A GRAY IMAGE\n",
        "image = cv2.imread('./gdrive/My Drive/YOUR_SAVED_MODEL.png', 0) # REPLACE THE TEST IMAGE PATH WITH YOUR TEST IMAGE PATH"
      ],
      "execution_count": 0,
      "outputs": []
    },
    {
      "cell_type": "code",
      "metadata": {
        "id": "FJVX8yWWPliW",
        "colab_type": "code",
        "colab": {}
      },
      "source": [
        "import numpy as np\n",
        "# INITIALIZE SCRATCH IMAGE AS ZEROS\n",
        "scratch = np.zeros_like(image)\n",
        "# SET YOUR PATCH SIZE\n",
        "PATCH_SIZE = 32\n",
        "# LOOP THOUGH THE IMAGE AND DIVIDE THE IMAGE INTO PATCHES TO USE THE MODEL\n",
        "for y in range(0, image.shape[0]-PATCH_SIZE, PATCH_SIZE):\n",
        "  for x in range(0, image.shape[1]-PATCH_SIZE, PATCH_SIZE):\n",
        "    # CROP THE PATCH\n",
        "    patch = image[y:y+PATCH_SIZE, x:x+PATCH_SIZE]\n",
        "    # **** DEPENDS ON THE NORMALIZATION IN THE TRAINING TIME YOU SHOULD DO THE SAME NORMALIZATION TO THE TEST PATCH (FOR EXAMPLE \n",
        "    # MAYBE YOU JUST NEED TO DIVIDE IT BY 255.)\n",
        "    # PREPARE PATCH TO PASS IT THE MODEL\n",
        "    patch = np.reshape(patch.astype('float32')/255., (1, patch.shape[0], patch.shape[1], 1))\n",
        "    # GET MODEL PREDICTION\n",
        "    prediction = model.predict(patch)\n",
        "    # THE PREDICTION IS A NUMPY ARRAY WHICH EACH ELEMENT SHOWS THE PROBABILITY OF BEING A SCRATCH CORRESPONDING TO THE PIXELS\n",
        "    # OF THE INPUT PATCH, SO YOU CAN THRESHOLD IT\n",
        "    prediction[prediction <= 0.5] = 0\n",
        "    prediction[prediction > 0.5] = 255\n",
        "    # CONVERT PREDICTION TO uint8\n",
        "    prediction = prediction.astype('uint8')\n",
        "    # PUT THIS PREDICTION IN THE CORRESPONDING PLACE OF scratch MATRIX\n",
        "    scratch[y:y+PATCH_SIZE, x:x+PATCH_SIZE] = prediction \n",
        "\n",
        "# FINALLY YOU CAN SAVE SCRATCH AS AN IMAGE\n",
        "cv2.imwrite('YOUR_PATH/scratch.png', scratch)\n",
        "\n"
      ],
      "execution_count": 0,
      "outputs": []
    }
  ]
}